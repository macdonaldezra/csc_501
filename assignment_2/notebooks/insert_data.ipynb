{
 "cells": [
  {
   "cell_type": "code",
   "execution_count": 5,
   "metadata": {},
   "outputs": [],
   "source": [
    "import os\n",
    "\n",
    "import pandas as pd\n",
    "from neo4j import GraphDatabase\n",
    "\n",
    "USERNAME = os.getenv(\"NEO4J_USERNAME\", \"neo4j\")\n",
    "PASSWORD = os.getenv(\"NEO4J_PASSWORD\", \"password\")\n",
    "\n",
    "\n",
    "class Neo4jConnection:\n",
    "    # Function retrieved from:\n",
    "    # https://towardsdatascience.com/create-a-graph-database-in-neo4j-using-python-4172d40f89c4\n",
    "\n",
    "    def __init__(self, uri, user, pwd):\n",
    "        self.__uri = uri\n",
    "        self.__user = user\n",
    "        self.__pwd = pwd\n",
    "        self.__driver = None\n",
    "        try:\n",
    "            self.__driver = GraphDatabase.driver(self.__uri, auth=(self.__user, self.__pwd))\n",
    "        except Exception as e:\n",
    "            print(\"Failed to create the driver:\", e)\n",
    "\n",
    "    def close(self):\n",
    "        if self.__driver is not None:\n",
    "            self.__driver.close()\n",
    "\n",
    "    def query(self, query, parameters=None, db=None):\n",
    "        assert self.__driver is not None, \"Driver not initialized!\"\n",
    "        session = None\n",
    "        response = None\n",
    "        try: \n",
    "            session = self.__driver.session(database=db) if db is not None else self.__driver.session() \n",
    "            response = list(session.run(query, parameters))\n",
    "        except Exception as e:\n",
    "            print(\"Query failed:\", e)\n",
    "        finally: \n",
    "            if session is not None:\n",
    "                session.close()\n",
    "        return response\n",
    "\n",
    "\n",
    "conn = Neo4jConnection(\n",
    "    uri=\"bolt://localhost:11005\", \n",
    "    user=USERNAME,              \n",
    "    pwd=PASSWORD\n",
    ")"
   ]
  },
  {
   "cell_type": "code",
   "execution_count": 4,
   "metadata": {},
   "outputs": [
    {
     "data": {
      "text/plain": [
       "[]"
      ]
     },
     "execution_count": 4,
     "metadata": {},
     "output_type": "execute_result"
    }
   ],
   "source": [
    "# Create constraints on the customer, country, and film nodes\n",
    "conn.query('CREATE CONSTRAINT countries IF NOT EXISTS FOR (c:Country) REQUIRE c.name IS UNIQUE')\n",
    "conn.query('CREATE CONSTRAINT customers IF NOT EXISTS FOR (c:Customer) REQUIRE c.id IS UNIQUE')\n",
    "conn.query('CREATE CONSTRAINT films IF NOT EXISTS FOR (f:Film) REQUIRE f.id IS UNIQUE')"
   ]
  },
  {
   "cell_type": "code",
   "execution_count": 30,
   "metadata": {},
   "outputs": [
    {
     "data": {
      "text/plain": [
       "[]"
      ]
     },
     "execution_count": 30,
     "metadata": {},
     "output_type": "execute_result"
    }
   ],
   "source": [
    "# Note that to execute the below query, you will need to find the location of the import data or enable\n",
    "# importing CSV data from any file location.\n",
    "# To find the location of the import directory, run the following query:\n",
    "#\n",
    "# CALL dbms.listConfig()\n",
    "# YIELD name, value\n",
    "# WHERE name CONTAINS 'server.directories.import'\n",
    "# RETURN name, value\n",
    "# ORDER BY name\n",
    "# LIMIT 20;\n",
    "#\n",
    "\n",
    "INSERT_COUNTRIES = '''\n",
    "        WITH \"file:///world_economic_data.csv\" AS uri\n",
    "        LOAD CSV WITH HEADERS FROM uri AS row\n",
    "        MERGE (c:Country {name: row.name})\n",
    "        SET c.gdp_per_capita = row.gdp_per_capita\n",
    "        SET c.population_density = row.population_density\n",
    "        SET c.population = row.population\n",
    "        SET c.literacy_rate = row.literacy_rate\n",
    "        SET c.access_to_electricity = row.access_to_electricity\n",
    "        SET c.region = row.region\n",
    "'''\n",
    "\n",
    "conn.query(INSERT_COUNTRIES)"
   ]
  },
  {
   "cell_type": "markdown",
   "metadata": {},
   "source": [
    "## Extract Sakila Database Data\n",
    "\n",
    "To extract data from the MySQL dataset, the following queries were executed against the database\n",
    "\n",
    "```sql\n",
    "SELECT film.film_id, release_year, rental_duration, rental_rate, length, replacement_cost, rating, \\\n",
    "    category.name AS category_name FROM film JOIN film_category ON film_category.film_id=film.film_id \\\n",
    "     JOIN category ON film_category.category_id=category.category_id \\\n",
    "    INTO OUTFILE '/var/lib/mysql-files/sakila_films.csv' \\\n",
    "    FIELDS TERMINATED BY ',' ENCLOSED BY '\"' LINES TERMINATED BY '\\n';\n",
    "\n",
    "SELECT ID, country FROM customer_list INTO OUTFILE '/var/lib/mysql-files/sakila_customers.csv' \\\n",
    "    FIELDS TERMINATED BY ',' ENCLOSED BY '\"' LINES TERMINATED BY '\\n';\n",
    "\n",
    "SELECT rental_id, customer_id, film_id, inventory.inventory_id, rental_date, return_date FROM rental \\\n",
    "    JOIN inventory ON rental.inventory_id=inventory.inventory_id INTO OUTFILE \\\n",
    "    '/var/lib/mysql-files/sakila_rentals.csv' FIELDS TERMINATED BY ',' \\\n",
    "    ENCLOSED BY '\"' LINES TERMINATED BY '\\n';\n",
    "```\n",
    "\n",
    "Once the above queries were executed, the files were moved to the data directory, where they can be found now :-).\n",
    "\n",
    "Note that I did manually add the headers for the outputted CSV files..."
   ]
  },
  {
   "cell_type": "code",
   "execution_count": 35,
   "metadata": {},
   "outputs": [
    {
     "data": {
      "text/plain": [
       "[]"
      ]
     },
     "execution_count": 35,
     "metadata": {},
     "output_type": "execute_result"
    }
   ],
   "source": [
    "INSERT_FILMS = '''\n",
    "    WITH \"file:///sakila_films.csv\" AS uri\n",
    "    LOAD CSV WITH HEADERS FROM uri AS row\n",
    "    MERGE (f:Film {id: row.film_id})\n",
    "    SET f.release_year = row.release_year\n",
    "    SET f.rental_duration = row.rental_duration\n",
    "    SET f.rental_rate = row.rental_rate\n",
    "    SET f.length = row.length\n",
    "    SET f.replacement_cost = row.replacement_cost\n",
    "    SET f.rating = row.rating\n",
    "    SET f.category_name = row.category_name\n",
    "\n",
    "    WITH f, row\n",
    "    MATCH (r:Rental {film_id: row.film_id})\n",
    "    MERGE (f)-[:LENT]->(r)\n",
    "'''\n",
    "\n",
    "conn.query(INSERT_FILMS)"
   ]
  },
  {
   "cell_type": "code",
   "execution_count": 31,
   "metadata": {},
   "outputs": [
    {
     "data": {
      "text/plain": [
       "[]"
      ]
     },
     "execution_count": 31,
     "metadata": {},
     "output_type": "execute_result"
    }
   ],
   "source": [
    "INSERT_CUSTOMERS = '''\n",
    "    WITH \"file:///sakila_customers.csv\" AS uri\n",
    "    LOAD CSV WITH HEADERS FROM uri AS row\n",
    "    MERGE (c:Customer {id: row.id})\n",
    "    SET c.country = row.country\n",
    "\n",
    "    // connect customer to country\n",
    "    WITH c, row\n",
    "    MATCH (country:Country {name: row.country})\n",
    "    MERGE (c)-[:LIVES_IN]->(country)\n",
    "'''\n",
    "\n",
    "conn.query(INSERT_CUSTOMERS)"
   ]
  },
  {
   "cell_type": "code",
   "execution_count": 27,
   "metadata": {},
   "outputs": [
    {
     "data": {
      "text/plain": [
       "[]"
      ]
     },
     "execution_count": 27,
     "metadata": {},
     "output_type": "execute_result"
    }
   ],
   "source": [
    "INSERT_RENTALS = '''\n",
    "    WITH \"file:///sakila_rentals.csv\" AS uri\n",
    "    LOAD CSV WITH HEADERS FROM uri AS row\n",
    "    MERGE (r:Rental {id: row.rental_id})\n",
    "    SET r.customer_id = row.customer_id\n",
    "    SET r.film_id = row.film_id\n",
    "    SET r.rental_date = row.rental_date\n",
    "    SET r.return_date = row.return_date\n",
    " \n",
    "    // connect rental to customer\n",
    "    WITH r, row\n",
    "    MATCH (c:Customer {id: row.customer_id})\n",
    "    MERGE (c)-[:LENT]->(r)\n",
    "\n",
    "    // connect rental to film\n",
    "    WITH r, row\n",
    "    MATCH (f:Film {id: row.film_id})\n",
    "    MERGE (f)-[:BORROWED]->(r)\n",
    "'''\n",
    "\n",
    "conn.query(INSERT_RENTALS)"
   ]
  },
  {
   "cell_type": "code",
   "execution_count": 32,
   "metadata": {},
   "outputs": [
    {
     "data": {
      "text/plain": [
       "[<Record count=16044>]"
      ]
     },
     "execution_count": 32,
     "metadata": {},
     "output_type": "execute_result"
    }
   ],
   "source": [
    "INSERT_RENTAL_EDGES = '''\n",
    "    MATCH (c:Customer)\n",
    "    MATCH (r:Rental)\n",
    "    WHERE c.id = r.customer_id\n",
    "    MERGE (c)-[:RENTED]->(r)\n",
    "    RETURN COUNT(*) AS count\n",
    "'''\n",
    "\n",
    "conn.query(INSERT_RENTAL_EDGES)"
   ]
  },
  {
   "cell_type": "code",
   "execution_count": null,
   "metadata": {},
   "outputs": [],
   "source": [
    "df_customers = pd.read_csv('../data/customers.csv')"
   ]
  },
  {
   "cell_type": "code",
   "execution_count": 34,
   "metadata": {},
   "outputs": [
    {
     "data": {
      "text/html": [
       "<div>\n",
       "<style scoped>\n",
       "    .dataframe tbody tr th:only-of-type {\n",
       "        vertical-align: middle;\n",
       "    }\n",
       "\n",
       "    .dataframe tbody tr th {\n",
       "        vertical-align: top;\n",
       "    }\n",
       "\n",
       "    .dataframe thead th {\n",
       "        text-align: right;\n",
       "    }\n",
       "</style>\n",
       "<table border=\"1\" class=\"dataframe\">\n",
       "  <thead>\n",
       "    <tr style=\"text-align: right;\">\n",
       "      <th></th>\n",
       "      <th>film_id</th>\n",
       "      <th>release_year</th>\n",
       "      <th>rental_duration</th>\n",
       "      <th>rental_rate</th>\n",
       "      <th>length</th>\n",
       "      <th>replacement_cost</th>\n",
       "      <th>rating</th>\n",
       "      <th>category_name</th>\n",
       "    </tr>\n",
       "  </thead>\n",
       "  <tbody>\n",
       "    <tr>\n",
       "      <th>0</th>\n",
       "      <td>19</td>\n",
       "      <td>2006</td>\n",
       "      <td>6</td>\n",
       "      <td>0.99</td>\n",
       "      <td>113</td>\n",
       "      <td>20.99</td>\n",
       "      <td>PG</td>\n",
       "      <td>Action</td>\n",
       "    </tr>\n",
       "    <tr>\n",
       "      <th>1</th>\n",
       "      <td>21</td>\n",
       "      <td>2006</td>\n",
       "      <td>3</td>\n",
       "      <td>4.99</td>\n",
       "      <td>129</td>\n",
       "      <td>17.99</td>\n",
       "      <td>R</td>\n",
       "      <td>Action</td>\n",
       "    </tr>\n",
       "    <tr>\n",
       "      <th>2</th>\n",
       "      <td>29</td>\n",
       "      <td>2006</td>\n",
       "      <td>5</td>\n",
       "      <td>2.99</td>\n",
       "      <td>168</td>\n",
       "      <td>11.99</td>\n",
       "      <td>NC-17</td>\n",
       "      <td>Action</td>\n",
       "    </tr>\n",
       "    <tr>\n",
       "      <th>3</th>\n",
       "      <td>38</td>\n",
       "      <td>2006</td>\n",
       "      <td>6</td>\n",
       "      <td>0.99</td>\n",
       "      <td>68</td>\n",
       "      <td>25.99</td>\n",
       "      <td>NC-17</td>\n",
       "      <td>Action</td>\n",
       "    </tr>\n",
       "    <tr>\n",
       "      <th>4</th>\n",
       "      <td>56</td>\n",
       "      <td>2006</td>\n",
       "      <td>6</td>\n",
       "      <td>2.99</td>\n",
       "      <td>129</td>\n",
       "      <td>15.99</td>\n",
       "      <td>G</td>\n",
       "      <td>Action</td>\n",
       "    </tr>\n",
       "  </tbody>\n",
       "</table>\n",
       "</div>"
      ],
      "text/plain": [
       "   film_id  release_year  rental_duration  rental_rate  length  \\\n",
       "0       19          2006                6         0.99     113   \n",
       "1       21          2006                3         4.99     129   \n",
       "2       29          2006                5         2.99     168   \n",
       "3       38          2006                6         0.99      68   \n",
       "4       56          2006                6         2.99     129   \n",
       "\n",
       "   replacement_cost rating category_name  \n",
       "0             20.99     PG        Action  \n",
       "1             17.99      R        Action  \n",
       "2             11.99  NC-17        Action  \n",
       "3             25.99  NC-17        Action  \n",
       "4             15.99      G        Action  "
      ]
     },
     "execution_count": 34,
     "metadata": {},
     "output_type": "execute_result"
    }
   ],
   "source": [
    "df_films = pd.read_csv(\"../data/sakila_films.csv\")\n",
    "df_films.head()"
   ]
  }
 ],
 "metadata": {
  "kernelspec": {
   "display_name": "Python 3.9.13 64-bit ('assn2-env')",
   "language": "python",
   "name": "python3"
  },
  "language_info": {
   "codemirror_mode": {
    "name": "ipython",
    "version": 3
   },
   "file_extension": ".py",
   "mimetype": "text/x-python",
   "name": "python",
   "nbconvert_exporter": "python",
   "pygments_lexer": "ipython3",
   "version": "3.9.13"
  },
  "orig_nbformat": 4,
  "vscode": {
   "interpreter": {
    "hash": "117265a2176559677794ea4984c1f4d5177b7c2416556c4eb42d7684c805277e"
   }
  }
 },
 "nbformat": 4,
 "nbformat_minor": 2
}
