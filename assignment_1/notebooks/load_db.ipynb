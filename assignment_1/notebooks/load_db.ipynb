{
 "cells": [
  {
   "cell_type": "code",
   "execution_count": null,
   "metadata": {},
   "outputs": [],
   "source": [
    "import os\n",
    "import mysql.connector\n",
    "from mysql.connector import errorcode\n",
    "from inspect import getsourcefile\n",
    "\n",
    "import pandas as pd\n",
    "import typing as T\n",
    "from pathlib import Path\n",
    "\n",
    "\n",
    "def get_db_connection(host: str, username: str, password: str, dbname: str, port: int = 3306) -> T.Any:\n",
    "    \"\"\"\n",
    "    Get access to a provided database.\n",
    "    \"\"\"\n",
    "    try:\n",
    "        return mysql.connector.connect(host=host, user=username, password=password, database=dbname, port=port)\n",
    "    except mysql.connector.Error as err:\n",
    "        if err.errno == errorcode.ER_ACCESS_DENIED_ERROR:\n",
    "            print(\"Something is wrong with your user name or password\")\n",
    "        elif err.errno == errorcode.ER_BAD_DB_ERROR:\n",
    "            print(\"Database does not exist\")\n",
    "        else:\n",
    "            print(err)\n",
    "\n",
    "def execute_sql_from_file(connection: T.Any, sql: T.Union[Path, str]) -> T.Any:\n",
    "    \"\"\"\n",
    "    Read in a file from the provided filepath or string and execute the SQL contained in the file.\n",
    "    \"\"\"\n",
    "    query = \"\"\n",
    "    if isinstance(sql, Path):\n",
    "        with open(sql, \"r\") as infile:\n",
    "            query = infile.read()\n",
    "        if not query:\n",
    "            raise ValueError(f\"File {sql.as_posix()} is empty.\")\n",
    "    else:\n",
    "        query = sql\n",
    "\n",
    "    db_cursor = connection.cursor()\n",
    "    try:\n",
    "        query_results = db_cursor.execute(query)\n",
    "    except Exception as err:\n",
    "        # close database connection before raising exception\n",
    "        db_cursor.close()\n",
    "        raise err\n",
    "\n",
    "    return query_results\n",
    "\n",
    "\n",
    "connection = get_db_connection(\"localhost\", \"root\", \"password\", \"movies\")"
   ]
  },
  {
   "cell_type": "code",
   "execution_count": null,
   "metadata": {},
   "outputs": [],
   "source": [
    "db_sql_path = Path().cwd().parent / \"sql\" / \"create_tables.sql\"\n",
    "\n",
    "connection = get_db_connection(\"localhost\", \"root\", \"password\", \"movies\")\n",
    "data = execute_sql_from_file(connection, db_sql_path)"
   ]
  },
  {
   "cell_type": "code",
   "execution_count": null,
   "metadata": {},
   "outputs": [],
   "source": [
    "db_sql_path = Path().cwd().parent / \"sql\" / \"load_db.sql\"\n",
    "\n",
    "connection = get_db_connection(\"localhost\", \"root\", \"password\", \"movies\")\n",
    "data = execute_sql_from_file(connection, db_sql_path)"
   ]
  },
  {
   "cell_type": "code",
   "execution_count": null,
   "metadata": {},
   "outputs": [],
   "source": [
    "data"
   ]
  }
 ],
 "metadata": {
  "kernelspec": {
   "display_name": "Python 3.9.13 64-bit ('assn1-env')",
   "language": "python",
   "name": "python3"
  },
  "language_info": {
   "codemirror_mode": {
    "name": "ipython",
    "version": 3
   },
   "file_extension": ".py",
   "mimetype": "text/x-python",
   "name": "python",
   "nbconvert_exporter": "python",
   "pygments_lexer": "ipython3",
   "version": "3.9.13"
  },
  "orig_nbformat": 4,
  "vscode": {
   "interpreter": {
    "hash": "f9a516b875e7c258cba218d897390e5125bf468ee332ab6c96b55e0d5560980c"
   }
  }
 },
 "nbformat": 4,
 "nbformat_minor": 2
}
