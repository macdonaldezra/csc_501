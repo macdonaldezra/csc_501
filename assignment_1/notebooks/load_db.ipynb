{
 "cells": [
  {
   "cell_type": "code",
   "execution_count": 1,
   "metadata": {},
   "outputs": [],
   "source": [
    "import os\n",
    "import mysql.connector\n",
    "from mysql.connector import errorcode\n",
    "from inspect import getsourcefile\n",
    "\n",
    "import pandas as pd\n",
    "import typing as T\n",
    "from pathlib import Path\n",
    "\n",
    "\n",
    "def get_db_connection(host: str, username: str, password: str, dbname: str, port: int = 3306) -> T.Any:\n",
    "    \"\"\"\n",
    "    Get access to a provided database.\n",
    "    \"\"\"\n",
    "    try:\n",
    "        return mysql.connector.connect(host=host, user=username, password=password, database=dbname, port=port)\n",
    "    except mysql.connector.Error as err:\n",
    "        if err.errno == errorcode.ER_ACCESS_DENIED_ERROR:\n",
    "            print(\"Something is wrong with your user name or password\")\n",
    "        elif err.errno == errorcode.ER_BAD_DB_ERROR:\n",
    "            print(\"Database does not exist\")\n",
    "        else:\n",
    "            print(err)\n",
    "\n",
    "def execute_sql_from_file(connection: T.Any, filepath: Path) -> T.Any:\n",
    "    \"\"\"\n",
    "    Read in a file from the provided filepath and execute the SQL contained in the file.\n",
    "    \"\"\"\n",
    "    contents = \"\"\n",
    "    with open(filepath, \"r\") as infile:\n",
    "        contents = infile.read()\n",
    "\n",
    "    if not contents:\n",
    "        raise ValueError(f\"File {filepath.as_posix()} is empty.\")\n",
    "\n",
    "    db_cursor = connection.cursor()\n",
    "    try:\n",
    "        query_results = db_cursor.execute()\n",
    "    except Exception as err:\n",
    "        # close database connection before raising exception\n",
    "        db_cursor.close()\n",
    "        raise err\n",
    "\n",
    "    return query_results\n",
    "\n",
    "\n",
    "connection = get_db_connection(\"localhost\", \"root\", \"password\", \"movies\")"
   ]
  },
  {
   "cell_type": "code",
   "execution_count": 1,
   "metadata": {},
   "outputs": [
    {
     "ename": "NameError",
     "evalue": "name 'T' is not defined",
     "output_type": "error",
     "traceback": [
      "\u001b[0;31m---------------------------------------------------------------------------\u001b[0m",
      "\u001b[0;31mNameError\u001b[0m                                 Traceback (most recent call last)",
      "Cell \u001b[0;32mIn [1], line 1\u001b[0m\n\u001b[0;32m----> 1\u001b[0m \u001b[39mdef\u001b[39;00m \u001b[39mexecute_sql_from_file\u001b[39m(connection: T\u001b[39m.\u001b[39mAny, filepath: Path) \u001b[39m-\u001b[39m\u001b[39m>\u001b[39m T\u001b[39m.\u001b[39mAny:\n\u001b[1;32m      2\u001b[0m     contents \u001b[39m=\u001b[39m \u001b[39m\"\u001b[39m\u001b[39m\"\u001b[39m\n",
      "\u001b[0;31mNameError\u001b[0m: name 'T' is not defined"
     ]
    }
   ],
   "source": [
    "\n",
    "\n",
    "    "
   ]
  }
 ],
 "metadata": {
  "kernelspec": {
   "display_name": "Python 3.9.13 64-bit ('assn1-env')",
   "language": "python",
   "name": "python3"
  },
  "language_info": {
   "codemirror_mode": {
    "name": "ipython",
    "version": 3
   },
   "file_extension": ".py",
   "mimetype": "text/x-python",
   "name": "python",
   "nbconvert_exporter": "python",
   "pygments_lexer": "ipython3",
   "version": "3.9.13"
  },
  "orig_nbformat": 4,
  "vscode": {
   "interpreter": {
    "hash": "f9a516b875e7c258cba218d897390e5125bf468ee332ab6c96b55e0d5560980c"
   }
  }
 },
 "nbformat": 4,
 "nbformat_minor": 2
}
